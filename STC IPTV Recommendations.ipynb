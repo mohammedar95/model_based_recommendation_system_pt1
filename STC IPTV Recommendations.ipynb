{
 "cells": [
  {
   "cell_type": "markdown",
   "id": "6dae84aa-c304-4bcc-9129-516af1f222b0",
   "metadata": {},
   "source": [
    "Dataset Description:\n",
    "Introduction:\n",
    "Recommender systems are among the most popular applications of data science today. They are used to predict “best next action” for a customer or “rating of preference” that a user would give to items. Today, major tech company has applied them in some form or the other. For example, YouTube uses it to decide which video to play next on autoplay, Facebook uses it to recommend pages to like and people to follow, and Amazon uses it to suggest products to customers, and so on. In general, there are three ways to build a recommendation engine:\n",
    "1. Popularity based recommendation engine\n",
    "2. Content based recommendation engine\n",
    "3. Collaborative filtering based recommendation engine\n",
    "Another type of recommendation system is Hybrid model which can be created by mixing two or more types of recommendation systems. This type of recommendation systems usually gives better performance.\n",
    "\n",
    "The IPTV dataset contains the following features and it has more than 70 million rows and the size of data is more than 1 terabyte (TB), a sample is provided here:\n",
    "- User ID\n",
    "- SESSION START (DATE/TIME)\n",
    "- SESSION DURATION\n",
    "- PROGRAM NAME\n",
    "- PROGRAM DESCRIPTION\n",
    "- PREOGRAM GENRE\n",
    "- PROGRAM CLASS\n",
    "- SERIES TITLE\n",
    "- SERIES NAME\n",
    "- Episode title\n",
    "- Episode number"
   ]
  },
  {
   "cell_type": "markdown",
   "id": "549fec35-8420-4e82-a270-2ce2581e406a",
   "metadata": {},
   "source": [
    "# Recommendations with STC Data\n",
    "\n",
    "In this notebook, I will be putting recommendation techniques to use on real data from the STC OpenData Source.\n",
    "\n",
    "By following the table of contents, you will find a number of different methods for making recommendations that can be used for different situations. \n",
    "\n",
    "## Table of Contents\n",
    "\n",
    "1. [Exploratory Data Analysis](#Exploratory-Data-Analysis)<br>\n",
    "2. [Rank Based Recommendations](#Rank)<br>\n",
    "3. [User-User Based Collaborative Filtering](#User-User)<br>\n",
    "4. [Matrix Factorization](#Matrix-Fact)<br>\n",
    "5. [Extras & Concluding](#conclusions)\n",
    "6. [Content Based Recommendations (EXTRA - NOT REQUIRED)](#Content-Recs)<br>\n"
   ]
  },
  {
   "cell_type": "markdown",
   "id": "3ad514b7-e484-484a-b14a-b52357cccbba",
   "metadata": {},
   "source": [
    "# Loading Data"
   ]
  },
  {
   "cell_type": "code",
   "execution_count": 7,
   "id": "3759389d-dff1-40ea-8d86-7ae82232da5a",
   "metadata": {},
   "outputs": [],
   "source": [
    "import pandas as pd\n",
    "import numpy as np\n",
    "import matplotlib.pyplot as plt\n",
    "import pickle\n",
    "import matplotlib.image as image\n",
    "from matplotlib.offsetbox import TextArea, DrawingArea, OffsetImage, AnnotationBbox\n",
    "\n",
    "%matplotlib inline\n",
    "stc = pd.read_csv('Final_Dataset.txt', delimiter = \",\")"
   ]
  },
  {
   "cell_type": "code",
   "execution_count": 8,
   "id": "3c5669e5-b029-46e1-866f-4a780caf8adb",
   "metadata": {},
   "outputs": [],
   "source": [
    "stc = stc.drop('Unnamed: 0', axis=1)"
   ]
  },
  {
   "cell_type": "code",
   "execution_count": 9,
   "id": "9b954927-7ed1-481d-9949-7e4be1f0273b",
   "metadata": {},
   "outputs": [
    {
     "data": {
      "text/html": [
       "<div>\n",
       "<style scoped>\n",
       "    .dataframe tbody tr th:only-of-type {\n",
       "        vertical-align: middle;\n",
       "    }\n",
       "\n",
       "    .dataframe tbody tr th {\n",
       "        vertical-align: top;\n",
       "    }\n",
       "\n",
       "    .dataframe thead th {\n",
       "        text-align: right;\n",
       "    }\n",
       "</style>\n",
       "<table border=\"1\" class=\"dataframe\">\n",
       "  <thead>\n",
       "    <tr style=\"text-align: right;\">\n",
       "      <th></th>\n",
       "      <th>date_</th>\n",
       "      <th>user_id_maped</th>\n",
       "      <th>program_name</th>\n",
       "      <th>duration_seconds</th>\n",
       "      <th>program_class</th>\n",
       "      <th>season</th>\n",
       "      <th>episode</th>\n",
       "      <th>program_desc</th>\n",
       "      <th>program_genre</th>\n",
       "      <th>series_title</th>\n",
       "      <th>hd</th>\n",
       "      <th>original_name</th>\n",
       "      <th>vid_id</th>\n",
       "    </tr>\n",
       "  </thead>\n",
       "  <tbody>\n",
       "    <tr>\n",
       "      <th>0</th>\n",
       "      <td>2017-05-27</td>\n",
       "      <td>26138</td>\n",
       "      <td>100 treets</td>\n",
       "      <td>40</td>\n",
       "      <td>MOVIE</td>\n",
       "      <td>0</td>\n",
       "      <td>0</td>\n",
       "      <td>Drama Movie100 Streets</td>\n",
       "      <td>Drama</td>\n",
       "      <td>0</td>\n",
       "      <td>0</td>\n",
       "      <td>100 treets</td>\n",
       "      <td>2</td>\n",
       "    </tr>\n",
       "    <tr>\n",
       "      <th>1</th>\n",
       "      <td>2017-05-21</td>\n",
       "      <td>7946</td>\n",
       "      <td>Moana</td>\n",
       "      <td>17</td>\n",
       "      <td>MOVIE</td>\n",
       "      <td>0</td>\n",
       "      <td>0</td>\n",
       "      <td>Animation MovieMoana (HD)</td>\n",
       "      <td>Animation</td>\n",
       "      <td>0</td>\n",
       "      <td>1</td>\n",
       "      <td>Moana</td>\n",
       "      <td>924</td>\n",
       "    </tr>\n",
       "    <tr>\n",
       "      <th>2</th>\n",
       "      <td>2017-08-10</td>\n",
       "      <td>7418</td>\n",
       "      <td>The Mermaid Princess</td>\n",
       "      <td>8</td>\n",
       "      <td>MOVIE</td>\n",
       "      <td>0</td>\n",
       "      <td>0</td>\n",
       "      <td>Animation MovieThe Mermaid Princess (HD)</td>\n",
       "      <td>Animation</td>\n",
       "      <td>0</td>\n",
       "      <td>1</td>\n",
       "      <td>The Mermaid Princess</td>\n",
       "      <td>1524</td>\n",
       "    </tr>\n",
       "    <tr>\n",
       "      <th>3</th>\n",
       "      <td>2017-07-26</td>\n",
       "      <td>19307</td>\n",
       "      <td>The Mermaid Princess</td>\n",
       "      <td>76</td>\n",
       "      <td>MOVIE</td>\n",
       "      <td>0</td>\n",
       "      <td>0</td>\n",
       "      <td>Animation MovieThe Mermaid Princess (HD)</td>\n",
       "      <td>Animation</td>\n",
       "      <td>0</td>\n",
       "      <td>1</td>\n",
       "      <td>The Mermaid Princess</td>\n",
       "      <td>1524</td>\n",
       "    </tr>\n",
       "    <tr>\n",
       "      <th>4</th>\n",
       "      <td>2017-07-07</td>\n",
       "      <td>15860</td>\n",
       "      <td>Churchill</td>\n",
       "      <td>87</td>\n",
       "      <td>MOVIE</td>\n",
       "      <td>0</td>\n",
       "      <td>0</td>\n",
       "      <td>Biography MovieChurchill (HD)</td>\n",
       "      <td>Biography</td>\n",
       "      <td>0</td>\n",
       "      <td>1</td>\n",
       "      <td>Churchill</td>\n",
       "      <td>317</td>\n",
       "    </tr>\n",
       "  </tbody>\n",
       "</table>\n",
       "</div>"
      ],
      "text/plain": [
       "        date_  user_id_maped           program_name  duration_seconds  \\\n",
       "0  2017-05-27          26138             100 treets                40   \n",
       "1  2017-05-21           7946                 Moana                 17   \n",
       "2  2017-08-10           7418  The Mermaid Princess                  8   \n",
       "3  2017-07-26          19307  The Mermaid Princess                 76   \n",
       "4  2017-07-07          15860             Churchill                 87   \n",
       "\n",
       "  program_class  season  episode                              program_desc  \\\n",
       "0         MOVIE       0        0                    Drama Movie100 Streets   \n",
       "1         MOVIE       0        0                 Animation MovieMoana (HD)   \n",
       "2         MOVIE       0        0  Animation MovieThe Mermaid Princess (HD)   \n",
       "3         MOVIE       0        0  Animation MovieThe Mermaid Princess (HD)   \n",
       "4         MOVIE       0        0             Biography MovieChurchill (HD)   \n",
       "\n",
       "  program_genre  series_title  hd         original_name  vid_id  \n",
       "0         Drama             0   0            100 treets       2  \n",
       "1     Animation             0   1                 Moana     924  \n",
       "2     Animation             0   1  The Mermaid Princess    1524  \n",
       "3     Animation             0   1  The Mermaid Princess    1524  \n",
       "4     Biography             0   1             Churchill     317  "
      ]
     },
     "execution_count": 9,
     "metadata": {},
     "output_type": "execute_result"
    }
   ],
   "source": [
    "# creating unique id for videos\n",
    "df = stc.copy()\n",
    "df['vid_id'] = df.groupby(['original_name']).ngroup()\n",
    "df.head()"
   ]
  },
  {
   "cell_type": "markdown",
   "id": "4c18b802-8246-40cc-bf4e-fd55cedc58b6",
   "metadata": {
    "tags": []
   },
   "source": [
    "# Data Processing"
   ]
  },
  {
   "cell_type": "code",
   "execution_count": 10,
   "id": "f4f0a427-fd09-4e50-ae4e-e199629aa675",
   "metadata": {},
   "outputs": [],
   "source": [
    "# chooseing columns we need for recommandation\n",
    "df = df[['user_id_maped', 'vid_id','program_name', 'program_class', 'season', 'episode', 'program_genre', 'hd',  'date_', 'original_name']]\n",
    "\n",
    "# rename cols\n",
    "df.columns = ['user_id', 'vid_id','program_name', 'program_class', 'season', 'episode', 'program_genre', 'hd',  'date', 'original_name']\n",
    "\n",
    "# create date year and months\n",
    "df['year']  =  [int(x[:4]) for x in df['date']]\n",
    "df['month'] = [int(x[5:7]) for x in df['date']]\n",
    "df['date']  = pd.to_datetime(df.date,format='%Y/%m/%d')"
   ]
  },
  {
   "cell_type": "code",
   "execution_count": 11,
   "id": "e9b6a147-c6f0-44eb-9211-16665c942163",
   "metadata": {},
   "outputs": [],
   "source": [
    "df.program_class = df.program_class.replace('MOVIE', \"Movie\")\n",
    "df.program_class = df.program_class.replace('SERIES/EPISODES', \"TV Show\")\n",
    "df.program_genre = df.program_genre.replace('SERIES_NOT_ADDED_UNDER_ANY_GENRE', \"Others\")\n",
    "df.program_genre = df.program_genre.replace('NOT_DEFINED_IN_UMS', \"Others\")"
   ]
  },
  {
   "cell_type": "code",
   "execution_count": 12,
   "id": "c73a9af8-e491-4cbb-822f-23fdbb2d44a3",
   "metadata": {},
   "outputs": [
    {
     "data": {
      "text/html": [
       "<div>\n",
       "<style scoped>\n",
       "    .dataframe tbody tr th:only-of-type {\n",
       "        vertical-align: middle;\n",
       "    }\n",
       "\n",
       "    .dataframe tbody tr th {\n",
       "        vertical-align: top;\n",
       "    }\n",
       "\n",
       "    .dataframe thead th {\n",
       "        text-align: right;\n",
       "    }\n",
       "</style>\n",
       "<table border=\"1\" class=\"dataframe\">\n",
       "  <thead>\n",
       "    <tr style=\"text-align: right;\">\n",
       "      <th></th>\n",
       "      <th>user_id</th>\n",
       "      <th>vid_id</th>\n",
       "      <th>program_name</th>\n",
       "      <th>program_class</th>\n",
       "      <th>season</th>\n",
       "      <th>episode</th>\n",
       "      <th>program_genre</th>\n",
       "      <th>hd</th>\n",
       "      <th>date</th>\n",
       "      <th>original_name</th>\n",
       "      <th>year</th>\n",
       "      <th>month</th>\n",
       "    </tr>\n",
       "  </thead>\n",
       "  <tbody>\n",
       "    <tr>\n",
       "      <th>0</th>\n",
       "      <td>26138</td>\n",
       "      <td>2</td>\n",
       "      <td>100 treets</td>\n",
       "      <td>Movie</td>\n",
       "      <td>0</td>\n",
       "      <td>0</td>\n",
       "      <td>Drama</td>\n",
       "      <td>0</td>\n",
       "      <td>2017-05-27</td>\n",
       "      <td>100 treets</td>\n",
       "      <td>2017</td>\n",
       "      <td>5</td>\n",
       "    </tr>\n",
       "    <tr>\n",
       "      <th>1</th>\n",
       "      <td>7946</td>\n",
       "      <td>924</td>\n",
       "      <td>Moana</td>\n",
       "      <td>Movie</td>\n",
       "      <td>0</td>\n",
       "      <td>0</td>\n",
       "      <td>Animation</td>\n",
       "      <td>1</td>\n",
       "      <td>2017-05-21</td>\n",
       "      <td>Moana</td>\n",
       "      <td>2017</td>\n",
       "      <td>5</td>\n",
       "    </tr>\n",
       "    <tr>\n",
       "      <th>2</th>\n",
       "      <td>7418</td>\n",
       "      <td>1524</td>\n",
       "      <td>The Mermaid Princess</td>\n",
       "      <td>Movie</td>\n",
       "      <td>0</td>\n",
       "      <td>0</td>\n",
       "      <td>Animation</td>\n",
       "      <td>1</td>\n",
       "      <td>2017-08-10</td>\n",
       "      <td>The Mermaid Princess</td>\n",
       "      <td>2017</td>\n",
       "      <td>8</td>\n",
       "    </tr>\n",
       "    <tr>\n",
       "      <th>3</th>\n",
       "      <td>19307</td>\n",
       "      <td>1524</td>\n",
       "      <td>The Mermaid Princess</td>\n",
       "      <td>Movie</td>\n",
       "      <td>0</td>\n",
       "      <td>0</td>\n",
       "      <td>Animation</td>\n",
       "      <td>1</td>\n",
       "      <td>2017-07-26</td>\n",
       "      <td>The Mermaid Princess</td>\n",
       "      <td>2017</td>\n",
       "      <td>7</td>\n",
       "    </tr>\n",
       "    <tr>\n",
       "      <th>4</th>\n",
       "      <td>15860</td>\n",
       "      <td>317</td>\n",
       "      <td>Churchill</td>\n",
       "      <td>Movie</td>\n",
       "      <td>0</td>\n",
       "      <td>0</td>\n",
       "      <td>Biography</td>\n",
       "      <td>1</td>\n",
       "      <td>2017-07-07</td>\n",
       "      <td>Churchill</td>\n",
       "      <td>2017</td>\n",
       "      <td>7</td>\n",
       "    </tr>\n",
       "  </tbody>\n",
       "</table>\n",
       "</div>"
      ],
      "text/plain": [
       "   user_id  vid_id           program_name program_class  season  episode  \\\n",
       "0    26138       2             100 treets         Movie       0        0   \n",
       "1     7946     924                 Moana          Movie       0        0   \n",
       "2     7418    1524  The Mermaid Princess          Movie       0        0   \n",
       "3    19307    1524  The Mermaid Princess          Movie       0        0   \n",
       "4    15860     317             Churchill          Movie       0        0   \n",
       "\n",
       "  program_genre  hd       date         original_name  year  month  \n",
       "0         Drama   0 2017-05-27            100 treets  2017      5  \n",
       "1     Animation   1 2017-05-21                 Moana  2017      5  \n",
       "2     Animation   1 2017-08-10  The Mermaid Princess  2017      8  \n",
       "3     Animation   1 2017-07-26  The Mermaid Princess  2017      7  \n",
       "4     Biography   1 2017-07-07             Churchill  2017      7  "
      ]
     },
     "execution_count": 12,
     "metadata": {},
     "output_type": "execute_result"
    }
   ],
   "source": [
    "df.head()"
   ]
  },
  {
   "cell_type": "markdown",
   "id": "de01beef-7fa1-436d-b6d0-daa865a95a85",
   "metadata": {
    "tags": []
   },
   "source": [
    "# <a class=\"anchor\" id=\"Exploratory-Data-Analysis\">Part I : Exploratory Data Analysis</a>\n"
   ]
  },
  {
   "cell_type": "code",
   "execution_count": 13,
   "id": "d97d7813-ae99-439a-8b90-624a7fe6327e",
   "metadata": {},
   "outputs": [
    {
     "name": "stdout",
     "output_type": "stream",
     "text": [
      "<class 'pandas.core.frame.DataFrame'>\n",
      "RangeIndex: 3598607 entries, 0 to 3598606\n",
      "Data columns (total 12 columns):\n",
      " #   Column         Dtype         \n",
      "---  ------         -----         \n",
      " 0   user_id        int64         \n",
      " 1   vid_id         int64         \n",
      " 2   program_name   object        \n",
      " 3   program_class  object        \n",
      " 4   season         int64         \n",
      " 5   episode        int64         \n",
      " 6   program_genre  object        \n",
      " 7   hd             int64         \n",
      " 8   date           datetime64[ns]\n",
      " 9   original_name  object        \n",
      " 10  year           int64         \n",
      " 11  month          int64         \n",
      "dtypes: datetime64[ns](1), int64(7), object(4)\n",
      "memory usage: 329.5+ MB\n"
     ]
    }
   ],
   "source": [
    "df.info()"
   ]
  },
  {
   "cell_type": "code",
   "execution_count": 14,
   "id": "02c572f8-421d-4889-aec0-cafeccb0f727",
   "metadata": {},
   "outputs": [
    {
     "data": {
      "text/plain": [
       "user_id          0\n",
       "vid_id           0\n",
       "program_name     0\n",
       "program_class    0\n",
       "season           0\n",
       "episode          0\n",
       "program_genre    0\n",
       "hd               0\n",
       "date             0\n",
       "original_name    0\n",
       "year             0\n",
       "month            0\n",
       "dtype: int64"
      ]
     },
     "execution_count": 14,
     "metadata": {},
     "output_type": "execute_result"
    }
   ],
   "source": [
    "# check for nulls\n",
    "df.isna().sum()"
   ]
  },
  {
   "cell_type": "code",
   "execution_count": 15,
   "id": "b9dfccdd-6f4f-40e6-8f69-e19fee42e29b",
   "metadata": {},
   "outputs": [
    {
     "name": "stdout",
     "output_type": "stream",
     "text": [
      "Number of Duplicate Records 1027754\n",
      "Percentage of Duplicates on Full Data %28.56\n"
     ]
    }
   ],
   "source": [
    "# check for duplicated\n",
    "print('Number of Duplicate Records {}'.format(df.duplicated().sum()))\n",
    "print('Percentage of Duplicates on Full Data %{}'.format(round(df.duplicated().sum()/df.shape[0]*100,2)))"
   ]
  },
  {
   "cell_type": "markdown",
   "id": "9934c707-a9ba-45ba-af4e-5411e9686612",
   "metadata": {},
   "source": [
    "### Outliers"
   ]
  },
  {
   "cell_type": "code",
   "execution_count": 16,
   "id": "3a5d12b2-6cfe-42e4-81dd-1b367163b006",
   "metadata": {},
   "outputs": [
    {
     "data": {
      "application/javascript": [
       "\n",
       "        if (window._pyforest_update_imports_cell) { window._pyforest_update_imports_cell('import seaborn as sns'); }\n",
       "    "
      ],
      "text/plain": [
       "<IPython.core.display.Javascript object>"
      ]
     },
     "metadata": {},
     "output_type": "display_data"
    },
    {
     "name": "stderr",
     "output_type": "stream",
     "text": [
      "/opt/anaconda3/lib/python3.8/site-packages/seaborn/distributions.py:2619: FutureWarning: `distplot` is a deprecated function and will be removed in a future version. Please adapt your code to use either `displot` (a figure-level function with similar flexibility) or `histplot` (an axes-level function for histograms).\n",
      "  warnings.warn(msg, FutureWarning)\n"
     ]
    },
    {
     "data": {
      "image/png": "[encoded data removed]",
      "text/plain": [
       "<Figure size 432x288 with 1 Axes>"
      ]
     },
     "metadata": {
      "needs_background": "light"
     },
     "output_type": "display_data"
    }
   ],
   "source": [
    "user_act = df.groupby(by='user_id')['vid_id'].count()\n",
    "\n",
    "before_outlier = user_act.values\n",
    "ax = sns.distplot(before_outlier)"
   ]
  },
  {
   "cell_type": "markdown",
   "id": "b0cf7912-8430-4655-8355-5c964c6239a3",
   "metadata": {},
   "source": [
    "#### Lets discuess this outlier of max number of users which can tell us something important. We understand that Jawwy service is similar to Netflix and know that users watch a lot of content but 11944 is very huge number for someone to watch. \n",
    "There are two assumptions: \n",
    "1. I could assume that its some duplicated in the database of same user, could be a testing user generally a but\n",
    "2. I would surly assume that Jawwy lack of an important feature in their serives which is limiting users going over a period of time. Let me explain further:\n",
    "    you have a feature that allow to go the next episode automaticlly, right! How long is the queue? 3 seconds? if yes, then users will jump faster to other episode. Where is the Problem? The problem is in the sleeping poeple who let the show go on for ever and the service will loop endless to all contents if the user did not touch the remote. Solution, simply, \"Are You Still Watching?\". Simple notification can save you from useless data records in the database and keep your models effiencit from data leakage and better numbers."
   ]
  },
  {
   "cell_type": "code",
   "execution_count": 17,
   "id": "83b17618-9515-4dd1-b6c1-2dd531e197c2",
   "metadata": {},
   "outputs": [],
   "source": [
    "# removing outliers\n",
    "def remove_outlier_IQR(df):\n",
    "    outs = df.describe()\n",
    "    Q1=outs['25%']\n",
    "    Q3=outs['75%']\n",
    "    IQR=Q3-Q1\n",
    "    df_final=df[~((df<(Q1-1.5*IQR)) | (df>(Q3+1.5*IQR)))]\n",
    "    return df_final\n",
    "user_act = remove_outlier_IQR(user_act)"
   ]
  },
  {
   "cell_type": "code",
   "execution_count": 18,
   "id": "73158d3e-b6a8-46bc-90e0-8c5ee5eae4c1",
   "metadata": {},
   "outputs": [
    {
     "name": "stderr",
     "output_type": "stream",
     "text": [
      "/opt/anaconda3/lib/python3.8/site-packages/seaborn/distributions.py:2619: FutureWarning: `distplot` is a deprecated function and will be removed in a future version. Please adapt your code to use either `displot` (a figure-level function with similar flexibility) or `histplot` (an axes-level function for histograms).\n",
      "  warnings.warn(msg, FutureWarning)\n"
     ]
    },
    {
     "data": {
      "image/png": "[encoded data removed]",
      "text/plain": [
       "<Figure size 432x288 with 1 Axes>"
      ]
     },
     "metadata": {
      "needs_background": "light"
     },
     "output_type": "display_data"
    }
   ],
   "source": [
    "import seaborn as sns, numpy as np\n",
    "after_re_outlier = user_act.values\n",
    "ax = sns.distplot(after_re_outlier)"
   ]
  },
  {
   "cell_type": "markdown",
   "id": "4812fb3c-59b4-40be-91c5-e523c49d7127",
   "metadata": {},
   "source": [
    "#### Choosing Company's Color Brand"
   ]
  },
  {
   "cell_type": "code",
   "execution_count": 19,
   "id": "7ce697dc-2dcb-4995-b677-baa562528684",
   "metadata": {},
   "outputs": [
    {
     "data": {
      "image/png": "[encoded data removed]",
      "text/plain": [
       "<Figure size 360x72 with 1 Axes>"
      ]
     },
     "metadata": {
      "needs_background": "light"
     },
     "output_type": "display_data"
    }
   ],
   "source": [
    "# Palette\n",
    "sns.palplot(['#6A01BB', '#390065', '#FF375D','#e8591b','#f5f5f1' ])\n",
    "\n",
    "plt.title(\"STC brand palette \",loc='left',fontsize=15,y=1)\n",
    "plt.show()"
   ]
  },
  {
   "cell_type": "markdown",
   "id": "7d5b0db4-64c6-43b8-beea-d01feccad88d",
   "metadata": {},
   "source": [
    "# Data Visualization"
   ]
  },
  {
   "cell_type": "markdown",
   "id": "85841217-995a-4d1e-a895-ed57addacc11",
   "metadata": {
    "tags": []
   },
   "source": [
    "## 1. Percentage of Program Type"
   ]
  },
  {
   "cell_type": "markdown",
   "id": "aa65aed3-8cbb-4589-bddb-ea0e413ebdef",
   "metadata": {},
   "source": [
    "### Processing"
   ]
  },
  {
   "cell_type": "code",
   "execution_count": 20,
   "id": "1c3248e8-ce79-4d55-a860-2d36bff7fe88",
   "metadata": {},
   "outputs": [],
   "source": [
    "type_ratio = round(df.program_class.value_counts(normalize=True).to_frame().transpose(),2)"
   ]
  },
  {
   "cell_type": "markdown",
   "id": "05cc4296-82c2-4f17-8405-59f7428d0b3c",
   "metadata": {},
   "source": [
    "### Visualization"
   ]
  },
  {
   "cell_type": "code",
   "execution_count": 21,
   "id": "15e312fa-be04-4f2a-a0c4-02176b17115c",
   "metadata": {},
   "outputs": [
    {
     "name": "stderr",
     "output_type": "stream",
     "text": [
      "/var/folders/sn/7klq0gls5qz987z3jr52_jym0000gn/T/ipykernel_75545/2433531326.py:10: MatplotlibDeprecationWarning: Support for passing numbers through unit converters is deprecated since 3.5 and support will be removed two minor releases later; use Axis.convert_units instead.\n",
      "  ax.set_yticks([])\n"
     ]
    },
    {
     "data": {
      "image/png": "[encoded data removed]",
      "text/plain": [
       "<Figure size 468x180 with 1 Axes>"
      ]
     },
     "metadata": {},
     "output_type": "display_data"
    }
   ],
   "source": [
    "fig, ax = plt.subplots(1,1,figsize=(6.5, 2.5))\n",
    "\n",
    "ax.barh(type_ratio.index, type_ratio['Movie'], \n",
    "        color='#FF375D', alpha=0.9)\n",
    "ax.barh(type_ratio.index, type_ratio['TV Show'], left=type_ratio['Movie'], \n",
    "        color='#6A01BB', alpha=0.9)\n",
    "\n",
    "ax.set_xlim(0, 1)\n",
    "ax.set_xticks([])\n",
    "ax.set_yticks([])\n",
    "\n",
    "# movie percentage\n",
    "for i in type_ratio.index:\n",
    "    ax.annotate(f\"{int(type_ratio['Movie'][i]*100)}%\", \n",
    "                   xy=(type_ratio['Movie'][i]/2, i),\n",
    "                   va = 'center', ha='center',fontsize=40, fontweight='light', fontfamily='serif',\n",
    "                   color='white')\n",
    "\n",
    "    ax.annotate(\"Movie\", \n",
    "                   xy=(type_ratio['Movie'][i]/2, -0.25),\n",
    "                   va = 'center', ha='center',fontsize=15, fontweight='light', fontfamily='serif',\n",
    "                   color='white')\n",
    "    \n",
    "    \n",
    "for i in type_ratio.index:\n",
    "    ax.annotate(f\"{int(type_ratio['TV Show'][i]*100)}%\", \n",
    "                   xy=(type_ratio['Movie'][i]+type_ratio['TV Show'][i]/2, i),\n",
    "                   va = 'center', ha='center',fontsize=40, fontweight='light', fontfamily='serif',\n",
    "                   color='white')\n",
    "    ax.annotate(\"TV Show\", \n",
    "                   xy=(type_ratio['Movie'][i]+type_ratio['TV Show'][i]/2, -0.25),\n",
    "                   va = 'center', ha='center',fontsize=15, fontweight='light', fontfamily='serif',\n",
    "                   color='white')\n",
    "\n",
    "\n",
    "for s in ['top', 'left', 'right', 'bottom']:\n",
    "    ax.spines[s].set_visible(False)\n",
    "\n",
    "\n",
    "    \n",
    "    # -------------------------------------- Title , Insight , Source --------------------------------------\n",
    "n = 0.5\n",
    "fig.text(0, 1.2+n, 'STC Jawwy Movie & TV Show Distribution', fontsize=22, fontweight='bold', fontfamily='serif', color='grey')   \n",
    "fig.text(0, 1.1+n, \"\"\"Percentage of Content Type in Catelog\"\"\",fontsize=15, fontweight='light', fontfamily='serif', color='grey')   \n",
    "\n",
    "fig.text(0, 0.8+n, \"[Insight]\",fontsize=15, fontweight='bold', fontfamily='serif')\n",
    "\n",
    "fig.text(0, 0.5+n, \"\"\"\n",
    "We can see that users are fairly streaming \n",
    "Movies and TV Shows closly although TV Shows are higher \n",
    "\"\"\"\n",
    "         ,fontsize=15, fontweight='light', fontfamily='serif', color='grey')   \n",
    "\n",
    "import matplotlib.lines as lines\n",
    "l1 = lines.Line2D([0, 1], [0.95, 0.95], transform=fig.transFigure, figure=fig,color='black',lw=0.3)\n",
    "fig.lines.extend([l1])\n",
    "\n",
    "fig.text(0, -0.5+n, \"Source: STC Lab OpenData\",fontsize=11, fontweight='bold', fontfamily='serif', color= '#e8591b')\n",
    "\n",
    "# -----------------------------------------------------------------------------------------------\n",
    "\n",
    "plt.show()\n"
   ]
  },
  {
   "cell_type": "markdown",
   "id": "1ae0d2e7-7556-420b-a18d-2b2ca809c37a",
   "metadata": {},
   "source": [
    "## Genre Percentage Collection in Jawwy"
   ]
  },
  {
   "cell_type": "markdown",
   "id": "cd4986a7-b403-4295-b170-837b159e990f",
   "metadata": {
    "tags": []
   },
   "source": [
    "### Processing"
   ]
  },
  {
   "cell_type": "code",
   "execution_count": 22,
   "id": "530c0d25-62b9-47c9-95e5-eb09d160e0a5",
   "metadata": {},
   "outputs": [],
   "source": [
    "genre_total = df.groupby(by=['program_class', 'program_genre'],as_index=False)['user_id'].count().sort_values('program_genre',ascending=False)\n",
    "# remove any non duplicate genre \n",
    "dups = genre_total['program_genre'].value_counts()\n",
    "genre_total = genre_total[genre_total['program_genre'].isin(dups[dups>1].index)]\n",
    "\n",
    "genre_total = genre_total.pivot_table(index='program_genre',columns='program_class', values='user_id').reset_index()\n",
    "genre_total.columns = [''.join(col) for col in genre_total.columns]\n",
    "genre_total['Total'] = genre_total['Movie']+genre_total['TV Show']\n",
    "genre_total = genre_total.sort_values('Movie', ascending=True)\n",
    "\n",
    "genre_total['Movie'] = round(genre_total['Movie']/genre_total['Total']*100,2)\n",
    "genre_total['TV Show'] = round((genre_total['TV Show'])/genre_total['Total']*100,2)\n",
    "\n",
    "genre_total = genre_total.set_index('program_genre')\n",
    "genre_total = genre_total.sort_values('Movie', ascending=False)"
   ]
  },
  {
   "cell_type": "markdown",
   "id": "9fc4579d-947e-4c64-8b32-714e82110227",
   "metadata": {},
   "source": [
    "### Visualization "
   ]
  },
  {
   "cell_type": "code",
   "execution_count": 23,
   "id": "7b9d3ea9-adc1-47c3-b215-d158fdba3f82",
   "metadata": {},
   "outputs": [
    {
     "name": "stderr",
     "output_type": "stream",
     "text": [
      "/var/folders/sn/7klq0gls5qz987z3jr52_jym0000gn/T/ipykernel_75545/4012140414.py:8: UserWarning: FixedFormatter should only be used together with FixedLocator\n",
      "  ax.set_yticklabels(genre_total.index,\n"
     ]
    },
    {
     "data": {
      "image/png": "[encoded data removed]",
      "text/plain": [
       "<Figure size 1080x576 with 2 Axes>"
      ]
     },
     "metadata": {
      "needs_background": "light"
     },
     "output_type": "display_data"
    }
   ],
   "source": [
    "fig, ax = plt.subplots(1,1,figsize=(15, 8),)\n",
    "ax.barh(genre_total.index, genre_total['Movie'], \n",
    "        color='#ff375e', alpha=0.8, label='Movie')\n",
    "ax.barh(genre_total.index, genre_total['TV Show'], left=genre_total['Movie'], \n",
    "        color='#390065', alpha=0.8, label='TV Show')\n",
    "\n",
    "#ax.set_xticks([])\n",
    "ax.set_yticklabels(genre_total.index,\n",
    "                   fontfamily='serif', fontsize=11)\n",
    "\n",
    "plt.tick_params(\n",
    "    axis='x',          # changes apply to the x-axis\n",
    "    which='both',      # both major and minor ticks are affected\n",
    "    bottom=False,      # ticks along the bottom edge are off\n",
    "    top=False,         # ticks along the top edge are off\n",
    "    labelbottom=False)\n",
    "\n",
    "# male percentage\n",
    "for i in genre_total.index:\n",
    "    ax.annotate(f\"{genre_total['Movie'][i]:.4}%\", \n",
    "                   xy=(genre_total['Movie'][i]/2, i),\n",
    "                   va = 'center', ha='center',fontsize=12, fontweight='bold', fontfamily='serif',\n",
    "                   color='white')\n",
    "\n",
    "for i in genre_total.index:\n",
    "    ax.annotate(f\"{genre_total['TV Show'][i]:.4}%\", \n",
    "                   xy=(genre_total['Movie'][i]+genre_total['TV Show'][i]/2, i),\n",
    "                   va = 'center', ha='center',fontsize=12, fontweight='bold', fontfamily='serif',\n",
    "                   color='white')\n",
    "    \n",
    "    \n",
    "# -------------------------------------- Title , Insight , Source --------------------------------------\n",
    "n = 0.01\n",
    "fig.text(0, 1.24+n, 'STC Jawwy Genre Collection', fontsize=22, fontweight='bold', fontfamily='serif', color='grey')   \n",
    "fig.text(0, 1.2+n, \"\"\"Total TV Shows and Movies Watched Combined\"\"\",fontsize=15, fontweight='light', fontfamily='serif', color='grey')   \n",
    "\n",
    "fig.text(0, 1.1+n, \"[Insight]\",fontsize=15, fontweight='bold', fontfamily='serif')\n",
    "\n",
    "fig.text(0, 0.97+n, \"\"\"\n",
    "TV Show Genre in Jawwy is dominated by Sci-Fi, Family and Animation contents with more than 50%.\n",
    "Movies have high selection of all other geners. We noticed that 'Others' genre is taking high \n",
    "portion in movies which mean there are a lot of movies we not categorized\n",
    "\"\"\"\n",
    "         ,fontsize=15, fontweight='light', fontfamily='serif', color='grey')   \n",
    "\n",
    "import matplotlib.lines as lines\n",
    "l1 = lines.Line2D([0, 0.9], [0.95, 0.95], transform=fig.transFigure, figure=fig,color='black',lw=0.3)\n",
    "fig.lines.extend([l1])\n",
    "\n",
    "fig.text(0.755, 1.14, \"STC Lab OpenData\",fontsize=11, fontweight='bold', fontfamily='serif', color= '#e8591b')\n",
    "\n",
    "# -----------------------------------------------------------------------------------------------\n",
    "\n",
    "fig.text(0.7,0.86,\"Movie\", fontweight=\"bold\", fontfamily='serif', fontsize=15, color='#FF375D')\n",
    "fig.text(0.75,0.86,\"|\", fontweight=\"bold\", fontfamily='serif', fontsize=15, color='black')\n",
    "fig.text(0.76,0.86,\"TV Show\", fontweight=\"bold\", fontfamily='serif', fontsize=15, color='#390065')\n",
    "\n",
    "for s in ['top', 'left', 'right', 'bottom']:\n",
    "    ax.spines[s].set_visible(False)\n",
    "    \n",
    "\n",
    "ax.tick_params(axis='both', which='major', labelsize=12)\n",
    "ax.tick_params(axis=u'both', which=u'both',length=0)\n",
    "\n",
    "\n",
    "im = image.imread('STC.png')\n",
    "newax = fig.add_axes([0.75,1.16,0.12,0.12], anchor='NE', zorder=1)\n",
    "newax.imshow(im)\n",
    "newax.axis('off')\n",
    "\n",
    "\n",
    "plt.show()"
   ]
  },
  {
   "cell_type": "markdown",
   "id": "e1fe7b14-332d-47ec-a856-212525e4aae1",
   "metadata": {},
   "source": [
    "## High Definition Support"
   ]
  },
  {
   "cell_type": "markdown",
   "id": "c6193d28-e21d-4a7f-8be9-99bde011ef7f",
   "metadata": {},
   "source": [
    "### Processing"
   ]
  },
  {
   "cell_type": "code",
   "execution_count": 24,
   "id": "95864cbf-483a-483e-a901-74919872b6c7",
   "metadata": {},
   "outputs": [],
   "source": [
    "#Number of HD in the Catlog\n",
    "hd_size = df[['hd', 'vid_id']].drop_duplicates()\n",
    "hd_size = hd_size.groupby(by=\"hd\", as_index=False)['vid_id'].count()\n",
    "hd_size['hd'] = np.where(hd_size['hd'] == 1, 'HD', 'SD')"
   ]
  },
  {
   "cell_type": "markdown",
   "id": "bdcf981d-1e4a-40b2-bf2b-3d247ef2e479",
   "metadata": {},
   "source": [
    "### Visualization"
   ]
  },
  {
   "cell_type": "code",
   "execution_count": 25,
   "id": "a3768bc1-5446-4772-a882-6b0cfb41610e",
   "metadata": {},
   "outputs": [
    {
     "data": {
      "image/png": "[encoded data removed]",
      "text/plain": [
       "<Figure size 864x360 with 2 Axes>"
      ]
     },
     "metadata": {
      "needs_background": "light"
     },
     "output_type": "display_data"
    }
   ],
   "source": [
    "# create variables for data and labels and colors\n",
    "pie_data = hd_size.loc[:,'vid_id']\n",
    "pie_labels = hd_size.loc[:,'hd']\n",
    "pie_color=['#390065','#ff375e'] \n",
    "\n",
    "# Make figure and axes\n",
    "fig, ax = plt.subplots(1,1, figsize=(12, 5),)\n",
    "\n",
    "# Adapt radius and text size for a smaller pie\n",
    "patches, texts, autotexts = ax.pie(pie_data, \n",
    "                                     colors=pie_color,\n",
    "                                     autopct='%.0f%%',\n",
    "                                     textprops={'size': 30, 'color': 'black'},\n",
    "                                     shadow=True, \n",
    "                                     radius=2,\n",
    "                                     startangle=70, # change the angle to make small on the right side\n",
    "                                     wedgeprops=dict(width=1.2), # create donut chart\n",
    "                                     explode=(0,0.4) # make the small standout\n",
    "                                    )\n",
    "\n",
    "\n",
    "fig.text(0.44,0.5,\"SD\", fontweight=\"bold\", fontfamily='serif', fontsize=30, color='#390065')\n",
    "fig.text(0.5,0.5,\"|\", fontweight=\"bold\", fontfamily='serif', fontsize=30, color='black')\n",
    "fig.text(0.52,0.5,\"HD\", fontweight=\"bold\", fontfamily='serif', fontsize=30, color='#FF375D')\n",
    "\n",
    "\n",
    "# -------------------------------------- Title , Insight , Source --------------------------------------\n",
    "n = 0.3\n",
    "plt.setp(autotexts, size=22, weight=\"bold\", color=\"white\")\n",
    "fig.text(0, 1.35+n, 'STC Jawwy High Definition Support', fontsize=22, fontweight='bold', fontfamily='serif', color='grey')   \n",
    "fig.text(0, 1.28+n, \"\"\"Total TV Shows and Movies Combined\"\"\",fontsize=15, fontweight='light', fontfamily='serif', color='grey')   \n",
    "\n",
    "\n",
    "\n",
    "fig.text(0, 1.15+n, \"Insight:\",fontsize=15, fontweight='bold', fontfamily='serif')\n",
    "\n",
    "fig.text(0, 0.95+n, \"\"\"\n",
    "As we notice that we have SD contents have higher \n",
    "collection than HD in Jawwy IPTV. SD have about 1642 contents while \n",
    "HD contents only have 549 movies and TV Shows\n",
    "\"\"\",fontsize=15, fontweight='light', fontfamily='serif', color='grey')   \n",
    "\n",
    "import matplotlib.lines as lines\n",
    "l1 = lines.Line2D([0, 0.9], [0.9+n, 0.9+n], transform=fig.transFigure, figure=fig,color='black',lw=0.3)\n",
    "fig.lines.extend([l1])\n",
    "\n",
    "l2 = lines.Line2D([0, 0.9], [0.9+n, 0.9+n], transform=fig.transFigure, figure=fig,color='black',lw=0.3)\n",
    "fig.lines.extend([l2])\n",
    "\n",
    "fig.text(0.744,1.45, \"STC Lab OpenData\",fontsize=11, fontweight='bold', fontfamily='serif', color= '#e8591b')\n",
    "\n",
    "# -----------------------------------------------------------------------------------------------\n",
    "\n",
    "ax.tick_params(axis='both', which='major', labelsize=12)\n",
    "ax.tick_params(axis=u'both', which=u'both',length=0)\n",
    "\n",
    "\n",
    "im = image.imread('STC.png')\n",
    "newax = fig.add_axes([0.7,1.5,0.2,0.2], anchor='NE', zorder=1)\n",
    "newax.imshow(im)\n",
    "newax.axis('off')\n",
    "\n",
    "plt.show()"
   ]
  },
  {
   "cell_type": "markdown",
   "id": "8c5711a9-1114-411c-81f3-398b651dd6de",
   "metadata": {
    "tags": []
   },
   "source": [
    "### User Views Overtime by Type"
   ]
  },
  {
   "cell_type": "markdown",
   "id": "c12b1058-17e2-4338-bf14-7b50be773829",
   "metadata": {},
   "source": [
    "### Processing"
   ]
  },
  {
   "cell_type": "code",
   "execution_count": 26,
   "id": "4eae1255-80ee-40d8-b9c6-d23e05df56c7",
   "metadata": {},
   "outputs": [],
   "source": [
    "df['date_column']= df['date'].dt.to_period('M')\n",
    "user_interactions = df.groupby(by=['date_column', 'program_class'], as_index=False).agg({\"user_id\": 'count'}).set_index('date_column')\n",
    "user_interactions = pd.pivot_table(user_interactions, index='date_column', columns='program_class', values='user_id')\n",
    "\n",
    "user_interactions.index= user_interactions.index.strftime('%y-%b')\n",
    "date= user_interactions.index.astype(str)"
   ]
  },
  {
   "cell_type": "markdown",
   "id": "7cd9a26e-0d05-469c-8dc2-d142ecb46147",
   "metadata": {},
   "source": [
    "### Visualization"
   ]
  },
  {
   "cell_type": "code",
   "execution_count": 27,
   "id": "22cb5b7a-0665-4aa8-b145-961f14ba2e38",
   "metadata": {},
   "outputs": [
    {
     "name": "stderr",
     "output_type": "stream",
     "text": [
      "/var/folders/sn/7klq0gls5qz987z3jr52_jym0000gn/T/ipykernel_75545/403479092.py:34: UserWarning: FixedFormatter should only be used together with FixedLocator\n",
      "  ax.set_yticklabels(['80K','100K','120K','140K', '160K', '180K', '190K', '200K'], fontsize=20, color='grey')\n",
      "/var/folders/sn/7klq0gls5qz987z3jr52_jym0000gn/T/ipykernel_75545/403479092.py:36: UserWarning: FixedFormatter should only be used together with FixedLocator\n",
      "  ax.set_xticklabels(list((user_interactions.index)),fontsize=15, color='grey')\n"
     ]
    },
    {
     "data": {
      "text/plain": [
       "(-0.5, 1199.5, 599.5, -0.5)"
      ]
     },
     "execution_count": 27,
     "metadata": {},
     "output_type": "execute_result"
    },
    {
     "data": {
      "image/png": "[encoded data removed]",
      "text/plain": [
       "<Figure size 1080x576 with 2 Axes>"
      ]
     },
     "metadata": {},
     "output_type": "display_data"
    }
   ],
   "source": [
    "fig, ax = plt.subplots(figsize=(15, 8),)\n",
    "\n",
    "ax.plot(date, user_interactions['Movie'], color='#FF375D', marker='o', lw=0.5)\n",
    "ax.plot(date, user_interactions['TV Show'], color = '#390065', marker='o', lw=0.5)\n",
    "\n",
    "\n",
    "# -------------------------------------- Title , Insight , Source --------------------------------------\n",
    "n = 0.3\n",
    "plt.setp(autotexts, size=22, weight=\"bold\", color=\"white\")\n",
    "fig.text(0, 0.94+n, 'STC Jawwy User Streaming By Months', fontsize=22, fontweight='light', fontfamily='serif', color='grey')   \n",
    "fig.text(0, 0.9+n, \"\"\"Monthly TV Shows and Movies Activity\"\"\",fontsize=15, fontweight='light', fontfamily='serif', color='grey')   \n",
    "\n",
    "\n",
    "fig.text(0, 0.84+n, \"Insight:\",fontsize=15, fontweight='bold', fontfamily='serif')\n",
    "\n",
    "fig.text(0, 0.72+n, \"\"\"\n",
    "Both Movies and TV Shows decreased on june then only TV Shows\n",
    "spkiked within 3 months toping highest veiws for the rest of months.\n",
    "\"\"\",fontsize=15, fontweight='light', fontfamily='serif', color='grey')   \n",
    "\n",
    "import matplotlib.lines as lines\n",
    "l1 = lines.Line2D([0, 0.9], [0.7+n, 0.7+n], transform=fig.transFigure, figure=fig,color='black',lw=0.3)\n",
    "fig.lines.extend([l1])\n",
    "\n",
    "fig.text(0.77, 1.11, \"STC Lab OpenData\",fontsize=11, fontweight='bold', fontfamily='serif', color='#e8591b')\n",
    "# -----------------------------------------------------------------------------------------------\n",
    "\n",
    "fig.text(0.68,0.9,\"TV Shows\", fontweight=\"bold\", fontfamily='serif', fontsize=30, color='#390065')\n",
    "fig.text(0.68,0.44,\"Movies\", fontweight=\"bold\", fontfamily='serif', fontsize=30, color='#FF375D')\n",
    "\n",
    "for s in ['top', 'left', 'right', 'bottom']:\n",
    "    ax.spines[s].set_visible(False)\n",
    "\n",
    "ax.set_yticklabels(['80K','100K','120K','140K', '160K', '180K', '190K', '200K'], fontsize=20, color='grey')\n",
    "ax.set_ylabel('Views', fontsize=20, color='grey')\n",
    "ax.set_xticklabels(list((user_interactions.index)),fontsize=15, color='grey')\n",
    "\n",
    "\n",
    "im = image.imread('STC.png')\n",
    "newax = fig.add_axes([0.75,1.13,0.15,0.15], anchor='NE', zorder=1)\n",
    "newax.imshow(im)\n",
    "newax.axis('off')"
   ]
  },
  {
   "cell_type": "code",
   "execution_count": 28,
   "id": "05525cea-9532-40bf-9d13-2eb2fa2ac393",
   "metadata": {},
   "outputs": [],
   "source": [
    "top_tv = df[df.program_class == 'TV Show']\n",
    "top_tv = top_tv.groupby(by=['program_name'], as_index=False).agg({'user_id' :'count'}).sort_values(by=['user_id'], ascending=False).head(10)\n"
   ]
  },
  {
   "cell_type": "code",
   "execution_count": null,
   "id": "3b26cd92-6871-47b5-97ea-a92186090847",
   "metadata": {},
   "outputs": [],
   "source": []
  },
  {
   "cell_type": "code",
   "execution_count": null,
   "id": "5daec6ff-e17e-4d84-ba94-7b0d082beed7",
   "metadata": {},
   "outputs": [],
   "source": []
  },
  {
   "cell_type": "code",
   "execution_count": 29,
   "id": "136f6432-7d9c-4b3e-947d-cc180308db5a",
   "metadata": {},
   "outputs": [
    {
     "data": {
      "image/png": "[encoded data removed]",
      "text/plain": [
       "<Figure size 1008x504 with 1 Axes>"
      ]
     },
     "metadata": {},
     "output_type": "display_data"
    }
   ],
   "source": [
    "\n",
    "import seaborn as sns\n",
    "y = top_tv.program_name\n",
    "x = top_tv.user_id\n",
    "# top movies\n",
    "top_color = \"#FF375D\"\n",
    "none_top_color = \"#6A01BB\"\n",
    "# set the background to white\n",
    "sns.set_theme(style=\"white\")\n",
    "# create chart and adding palette colors on top 3\n",
    "chart = sns.catplot(\n",
    "    data=top_tv, \n",
    "    y='program_name', \n",
    "    x='user_id', \n",
    "    kind=\"bar\",\n",
    "    height= 7,\n",
    "    aspect=2,\n",
    "    legend=False)\n"
   ]
  },
  {
   "cell_type": "markdown",
   "id": "18ccb866-9940-47fe-8c93-1d8b0c1114ca",
   "metadata": {
    "tags": []
   },
   "source": [
    "# Recommandation System"
   ]
  },
  {
   "cell_type": "markdown",
   "id": "204ea9ba-6f52-4ab4-8531-03533f984a5a",
   "metadata": {
    "tags": []
   },
   "source": [
    "### <a class=\"anchor\" id=\"Rank\">Part I: Rank-Based Recommendations</a>\n",
    "\n",
    "In Rank-Based Recommendations, we care about the number of content was interacted by users. By building a function to list a n top items can be insightful!"
   ]
  },
  {
   "cell_type": "code",
   "execution_count": 30,
   "id": "3ecc4dfa-19de-4f5f-a08b-54fbf25b7870",
   "metadata": {},
   "outputs": [],
   "source": [
    "def get_top_items(n, df=df):\n",
    "    '''\n",
    "    INPUT:\n",
    "    n - (int) the number of top top_items to return\n",
    "    df - (pandas dataframe) df as defined at the top of the notebook \n",
    "    \n",
    "    OUTPUT:\n",
    "    top_items - (list) A list of the top 'n' items titles \n",
    "    \n",
    "    '''\n",
    "    # Your code here\n",
    "    top_items = list(df.groupby('original_name').count()['user_id'].sort_values(ascending=False).index[:n,])\n",
    "    \n",
    "    return top_items # Return the top items titles from df (not df_content)\n",
    "\n",
    "def get_top_items_ids(n, df=df):\n",
    "    '''\n",
    "    INPUT:\n",
    "    n - (int) the number of top_items to return\n",
    "    df - (pandas dataframe) df as defined at the top of the notebook \n",
    "    \n",
    "    OUTPUT:\n",
    "    top_items - (list) A list of the top 'n' items titles \n",
    "    '''\n",
    "    top_items = list(df.groupby('vid_id').count()['user_id'].sort_values(ascending=False).index[:n,])\n",
    " \n",
    "    return top_items # Return the top item ids"
   ]
  },
  {
   "cell_type": "code",
   "execution_count": 32,
   "id": "b0b62764-ca51-4100-b74e-dea6e397c2ea",
   "metadata": {},
   "outputs": [
    {
     "data": {
      "text/plain": [
       "['PAW Patrol  ',\n",
       " 'Friends  ',\n",
       " 'Pingu  ',\n",
       " 'The Boss Baby',\n",
       " 'Blaze And The Monster Machines  ',\n",
       " 'The Walking Dead  ',\n",
       " 'Marcus Level  (T)',\n",
       " 'SpongeBob quarePants',\n",
       " 'Dora the Explorer  ',\n",
       " \"Oscar's Oasis  \"]"
      ]
     },
     "execution_count": 32,
     "metadata": {},
     "output_type": "execute_result"
    }
   ],
   "source": [
    "top_10 = list(get_top_items(10))\n",
    "top_10"
   ]
  },
  {
   "cell_type": "markdown",
   "id": "c8b35317-55b3-4ca8-915b-3b430d14d9d1",
   "metadata": {
    "tags": []
   },
   "source": [
    "## <a class=\"anchor\" id=\"User-User\">Part II: User-User Based Collaborative Filtering</a>\n",
    "\n",
    "\n",
    "`1.` Use the function below to reformat the **df** dataframe to be shaped with users as the rows and articles as the columns.  \n",
    "\n",
    "* Each **user** should only appear in each **row** once.\n",
    "\n",
    "\n",
    "* Each **article** should only show up in one **column**.  \n",
    "\n",
    "\n",
    "* **If a user has interacted with an item, then place a 1 where the user-row meets for that item-column**.  It does not matter how many times a user has interacted with the article, all entries where a user has interacted with an item should be a 1.  \n",
    "\n",
    "\n",
    "* **If a user has not interacted with an item, then place a zero where the user-row meets for that item-column**. "
   ]
  },
  {
   "cell_type": "code",
   "execution_count": 33,
   "id": "d177eeec-6f2e-4006-9b38-767c45cb07ce",
   "metadata": {},
   "outputs": [],
   "source": [
    "# I am subseting the dataset since it will take forever on my machine to compute similarity\n",
    "df = df.head(100000)"
   ]
  },
  {
   "cell_type": "code",
   "execution_count": 34,
   "id": "1c6ed206-e7f0-43ae-9a1c-57a15b8ebca5",
   "metadata": {},
   "outputs": [],
   "source": [
    "# create the user-article matrix with 1's and 0's\n",
    "def create_user_item_matrix(df):\n",
    "    '''\n",
    "    INPUT:\n",
    "    df - pandas dataframe with item_id, title, user_id columns\n",
    "    \n",
    "    OUTPUT:\n",
    "    user_item - user item matrix \n",
    "    \n",
    "    Description:\n",
    "    Return a matrix with user ids as rows and item ids on the columns with 1 values where a user interacted with \n",
    "    an article and a 0 otherwise\n",
    "    '''\n",
    "    # Fill in the function here\n",
    "    df = df[['user_id', 'original_name', 'vid_id']]\n",
    "    user_item = df.groupby(['user_id', 'vid_id'])['vid_id'].count().unstack().notnull().astype(int)\n",
    "    \n",
    "    return user_item # return the user_item matrix \n",
    "\n",
    "user_item = create_user_item_matrix(df)"
   ]
  },
  {
   "cell_type": "code",
   "execution_count": 35,
   "id": "c81feaa7-a134-4fc6-b120-ed463d82e037",
   "metadata": {},
   "outputs": [
    {
     "data": {
      "text/html": [
       "<div>\n",
       "<style scoped>\n",
       "    .dataframe tbody tr th:only-of-type {\n",
       "        vertical-align: middle;\n",
       "    }\n",
       "\n",
       "    .dataframe tbody tr th {\n",
       "        vertical-align: top;\n",
       "    }\n",
       "\n",
       "    .dataframe thead th {\n",
       "        text-align: right;\n",
       "    }\n",
       "</style>\n",
       "<table border=\"1\" class=\"dataframe\">\n",
       "  <thead>\n",
       "    <tr style=\"text-align: right;\">\n",
       "      <th>vid_id</th>\n",
       "      <th>0</th>\n",
       "      <th>1</th>\n",
       "      <th>2</th>\n",
       "      <th>3</th>\n",
       "      <th>4</th>\n",
       "      <th>5</th>\n",
       "      <th>6</th>\n",
       "      <th>7</th>\n",
       "      <th>8</th>\n",
       "      <th>9</th>\n",
       "      <th>...</th>\n",
       "      <th>1817</th>\n",
       "      <th>1818</th>\n",
       "      <th>1820</th>\n",
       "      <th>1821</th>\n",
       "      <th>1822</th>\n",
       "      <th>1823</th>\n",
       "      <th>1824</th>\n",
       "      <th>1825</th>\n",
       "      <th>1826</th>\n",
       "      <th>1827</th>\n",
       "    </tr>\n",
       "    <tr>\n",
       "      <th>user_id</th>\n",
       "      <th></th>\n",
       "      <th></th>\n",
       "      <th></th>\n",
       "      <th></th>\n",
       "      <th></th>\n",
       "      <th></th>\n",
       "      <th></th>\n",
       "      <th></th>\n",
       "      <th></th>\n",
       "      <th></th>\n",
       "      <th></th>\n",
       "      <th></th>\n",
       "      <th></th>\n",
       "      <th></th>\n",
       "      <th></th>\n",
       "      <th></th>\n",
       "      <th></th>\n",
       "      <th></th>\n",
       "      <th></th>\n",
       "      <th></th>\n",
       "      <th></th>\n",
       "    </tr>\n",
       "  </thead>\n",
       "  <tbody>\n",
       "    <tr>\n",
       "      <th>15</th>\n",
       "      <td>0</td>\n",
       "      <td>1</td>\n",
       "      <td>1</td>\n",
       "      <td>0</td>\n",
       "      <td>0</td>\n",
       "      <td>0</td>\n",
       "      <td>0</td>\n",
       "      <td>0</td>\n",
       "      <td>0</td>\n",
       "      <td>0</td>\n",
       "      <td>...</td>\n",
       "      <td>0</td>\n",
       "      <td>0</td>\n",
       "      <td>0</td>\n",
       "      <td>0</td>\n",
       "      <td>0</td>\n",
       "      <td>0</td>\n",
       "      <td>0</td>\n",
       "      <td>0</td>\n",
       "      <td>0</td>\n",
       "      <td>0</td>\n",
       "    </tr>\n",
       "    <tr>\n",
       "      <th>17</th>\n",
       "      <td>0</td>\n",
       "      <td>0</td>\n",
       "      <td>0</td>\n",
       "      <td>0</td>\n",
       "      <td>0</td>\n",
       "      <td>0</td>\n",
       "      <td>1</td>\n",
       "      <td>0</td>\n",
       "      <td>0</td>\n",
       "      <td>0</td>\n",
       "      <td>...</td>\n",
       "      <td>0</td>\n",
       "      <td>0</td>\n",
       "      <td>0</td>\n",
       "      <td>0</td>\n",
       "      <td>0</td>\n",
       "      <td>1</td>\n",
       "      <td>0</td>\n",
       "      <td>0</td>\n",
       "      <td>0</td>\n",
       "      <td>0</td>\n",
       "    </tr>\n",
       "    <tr>\n",
       "      <th>36</th>\n",
       "      <td>0</td>\n",
       "      <td>0</td>\n",
       "      <td>1</td>\n",
       "      <td>0</td>\n",
       "      <td>0</td>\n",
       "      <td>0</td>\n",
       "      <td>0</td>\n",
       "      <td>0</td>\n",
       "      <td>0</td>\n",
       "      <td>0</td>\n",
       "      <td>...</td>\n",
       "      <td>0</td>\n",
       "      <td>0</td>\n",
       "      <td>0</td>\n",
       "      <td>0</td>\n",
       "      <td>0</td>\n",
       "      <td>0</td>\n",
       "      <td>0</td>\n",
       "      <td>0</td>\n",
       "      <td>0</td>\n",
       "      <td>0</td>\n",
       "    </tr>\n",
       "    <tr>\n",
       "      <th>38</th>\n",
       "      <td>0</td>\n",
       "      <td>0</td>\n",
       "      <td>0</td>\n",
       "      <td>0</td>\n",
       "      <td>0</td>\n",
       "      <td>0</td>\n",
       "      <td>0</td>\n",
       "      <td>0</td>\n",
       "      <td>0</td>\n",
       "      <td>0</td>\n",
       "      <td>...</td>\n",
       "      <td>0</td>\n",
       "      <td>0</td>\n",
       "      <td>0</td>\n",
       "      <td>0</td>\n",
       "      <td>0</td>\n",
       "      <td>0</td>\n",
       "      <td>0</td>\n",
       "      <td>0</td>\n",
       "      <td>0</td>\n",
       "      <td>0</td>\n",
       "    </tr>\n",
       "    <tr>\n",
       "      <th>40</th>\n",
       "      <td>0</td>\n",
       "      <td>0</td>\n",
       "      <td>0</td>\n",
       "      <td>0</td>\n",
       "      <td>0</td>\n",
       "      <td>0</td>\n",
       "      <td>0</td>\n",
       "      <td>0</td>\n",
       "      <td>0</td>\n",
       "      <td>0</td>\n",
       "      <td>...</td>\n",
       "      <td>0</td>\n",
       "      <td>0</td>\n",
       "      <td>0</td>\n",
       "      <td>0</td>\n",
       "      <td>0</td>\n",
       "      <td>0</td>\n",
       "      <td>0</td>\n",
       "      <td>0</td>\n",
       "      <td>0</td>\n",
       "      <td>0</td>\n",
       "    </tr>\n",
       "    <tr>\n",
       "      <th>...</th>\n",
       "      <td>...</td>\n",
       "      <td>...</td>\n",
       "      <td>...</td>\n",
       "      <td>...</td>\n",
       "      <td>...</td>\n",
       "      <td>...</td>\n",
       "      <td>...</td>\n",
       "      <td>...</td>\n",
       "      <td>...</td>\n",
       "      <td>...</td>\n",
       "      <td>...</td>\n",
       "      <td>...</td>\n",
       "      <td>...</td>\n",
       "      <td>...</td>\n",
       "      <td>...</td>\n",
       "      <td>...</td>\n",
       "      <td>...</td>\n",
       "      <td>...</td>\n",
       "      <td>...</td>\n",
       "      <td>...</td>\n",
       "      <td>...</td>\n",
       "    </tr>\n",
       "    <tr>\n",
       "      <th>34231</th>\n",
       "      <td>0</td>\n",
       "      <td>0</td>\n",
       "      <td>0</td>\n",
       "      <td>0</td>\n",
       "      <td>0</td>\n",
       "      <td>0</td>\n",
       "      <td>0</td>\n",
       "      <td>0</td>\n",
       "      <td>0</td>\n",
       "      <td>0</td>\n",
       "      <td>...</td>\n",
       "      <td>0</td>\n",
       "      <td>0</td>\n",
       "      <td>0</td>\n",
       "      <td>0</td>\n",
       "      <td>0</td>\n",
       "      <td>0</td>\n",
       "      <td>0</td>\n",
       "      <td>0</td>\n",
       "      <td>0</td>\n",
       "      <td>0</td>\n",
       "    </tr>\n",
       "    <tr>\n",
       "      <th>34233</th>\n",
       "      <td>0</td>\n",
       "      <td>0</td>\n",
       "      <td>0</td>\n",
       "      <td>0</td>\n",
       "      <td>0</td>\n",
       "      <td>0</td>\n",
       "      <td>0</td>\n",
       "      <td>0</td>\n",
       "      <td>0</td>\n",
       "      <td>0</td>\n",
       "      <td>...</td>\n",
       "      <td>0</td>\n",
       "      <td>0</td>\n",
       "      <td>0</td>\n",
       "      <td>0</td>\n",
       "      <td>0</td>\n",
       "      <td>0</td>\n",
       "      <td>0</td>\n",
       "      <td>0</td>\n",
       "      <td>0</td>\n",
       "      <td>0</td>\n",
       "    </tr>\n",
       "    <tr>\n",
       "      <th>34250</th>\n",
       "      <td>0</td>\n",
       "      <td>0</td>\n",
       "      <td>1</td>\n",
       "      <td>0</td>\n",
       "      <td>0</td>\n",
       "      <td>0</td>\n",
       "      <td>0</td>\n",
       "      <td>0</td>\n",
       "      <td>0</td>\n",
       "      <td>0</td>\n",
       "      <td>...</td>\n",
       "      <td>0</td>\n",
       "      <td>0</td>\n",
       "      <td>0</td>\n",
       "      <td>0</td>\n",
       "      <td>0</td>\n",
       "      <td>0</td>\n",
       "      <td>0</td>\n",
       "      <td>0</td>\n",
       "      <td>0</td>\n",
       "      <td>0</td>\n",
       "    </tr>\n",
       "    <tr>\n",
       "      <th>34254</th>\n",
       "      <td>0</td>\n",
       "      <td>0</td>\n",
       "      <td>0</td>\n",
       "      <td>0</td>\n",
       "      <td>0</td>\n",
       "      <td>0</td>\n",
       "      <td>0</td>\n",
       "      <td>0</td>\n",
       "      <td>0</td>\n",
       "      <td>0</td>\n",
       "      <td>...</td>\n",
       "      <td>0</td>\n",
       "      <td>0</td>\n",
       "      <td>0</td>\n",
       "      <td>0</td>\n",
       "      <td>0</td>\n",
       "      <td>0</td>\n",
       "      <td>0</td>\n",
       "      <td>0</td>\n",
       "      <td>0</td>\n",
       "      <td>0</td>\n",
       "    </tr>\n",
       "    <tr>\n",
       "      <th>34277</th>\n",
       "      <td>0</td>\n",
       "      <td>0</td>\n",
       "      <td>0</td>\n",
       "      <td>0</td>\n",
       "      <td>0</td>\n",
       "      <td>0</td>\n",
       "      <td>0</td>\n",
       "      <td>0</td>\n",
       "      <td>0</td>\n",
       "      <td>0</td>\n",
       "      <td>...</td>\n",
       "      <td>0</td>\n",
       "      <td>0</td>\n",
       "      <td>0</td>\n",
       "      <td>0</td>\n",
       "      <td>0</td>\n",
       "      <td>0</td>\n",
       "      <td>0</td>\n",
       "      <td>0</td>\n",
       "      <td>0</td>\n",
       "      <td>0</td>\n",
       "    </tr>\n",
       "  </tbody>\n",
       "</table>\n",
       "<p>2728 rows × 1667 columns</p>\n",
       "</div>"
      ],
      "text/plain": [
       "vid_id   0     1     2     3     4     5     6     7     8     9     ...  \\\n",
       "user_id                                                              ...   \n",
       "15          0     1     1     0     0     0     0     0     0     0  ...   \n",
       "17          0     0     0     0     0     0     1     0     0     0  ...   \n",
       "36          0     0     1     0     0     0     0     0     0     0  ...   \n",
       "38          0     0     0     0     0     0     0     0     0     0  ...   \n",
       "40          0     0     0     0     0     0     0     0     0     0  ...   \n",
       "...       ...   ...   ...   ...   ...   ...   ...   ...   ...   ...  ...   \n",
       "34231       0     0     0     0     0     0     0     0     0     0  ...   \n",
       "34233       0     0     0     0     0     0     0     0     0     0  ...   \n",
       "34250       0     0     1     0     0     0     0     0     0     0  ...   \n",
       "34254       0     0     0     0     0     0     0     0     0     0  ...   \n",
       "34277       0     0     0     0     0     0     0     0     0     0  ...   \n",
       "\n",
       "vid_id   1817  1818  1820  1821  1822  1823  1824  1825  1826  1827  \n",
       "user_id                                                              \n",
       "15          0     0     0     0     0     0     0     0     0     0  \n",
       "17          0     0     0     0     0     1     0     0     0     0  \n",
       "36          0     0     0     0     0     0     0     0     0     0  \n",
       "38          0     0     0     0     0     0     0     0     0     0  \n",
       "40          0     0     0     0     0     0     0     0     0     0  \n",
       "...       ...   ...   ...   ...   ...   ...   ...   ...   ...   ...  \n",
       "34231       0     0     0     0     0     0     0     0     0     0  \n",
       "34233       0     0     0     0     0     0     0     0     0     0  \n",
       "34250       0     0     0     0     0     0     0     0     0     0  \n",
       "34254       0     0     0     0     0     0     0     0     0     0  \n",
       "34277       0     0     0     0     0     0     0     0     0     0  \n",
       "\n",
       "[2728 rows x 1667 columns]"
      ]
     },
     "execution_count": 35,
     "metadata": {},
     "output_type": "execute_result"
    }
   ],
   "source": [
    "user_item"
   ]
  },
  {
   "cell_type": "markdown",
   "id": "5788fe38-793c-4c4e-8b3e-252215331892",
   "metadata": {},
   "source": [
    "### Calculating User Similarities"
   ]
  },
  {
   "cell_type": "code",
   "execution_count": 36,
   "id": "cbcd434b-6016-4084-b470-42f9c874ce6b",
   "metadata": {},
   "outputs": [],
   "source": [
    "def find_similar_users(user_id, user_item=user_item):\n",
    "    '''\n",
    "    INPUT:\n",
    "    user_id - (int) a user_id\n",
    "    user_item - (pandas dataframe) matrix of users by items: \n",
    "                1's when a user has interacted with an items, 0 otherwise\n",
    "    \n",
    "    OUTPUT:\n",
    "    similar_users - (list) an ordered list where the closest users (largest dot product users)\n",
    "                    are listed first\n",
    "    \n",
    "    Description:\n",
    "    Computes the similarity of every pair of users based on the dot product\n",
    "    Returns an ordered\n",
    "    \n",
    "    '''\n",
    "    # compute similarity of each user to the provided user\n",
    "    similarity=user_item.dot(np.transpose(user_item))\n",
    "    # sort by similarity\n",
    "    similarity_sort=similarity.sort_values(by=user_id, axis=1, ascending=False)\n",
    "    \n",
    "    # remove the own user's id\n",
    "    similarity_sort = similarity_sort.drop(columns=user_id) \n",
    "\n",
    "\n",
    "    # create list of just the ids\n",
    "    most_similar_users = similarity_sort.columns.tolist()\n",
    "    \n",
    "    return most_similar_users # return a list of the users in order from most to least similar"
   ]
  },
  {
   "cell_type": "code",
   "execution_count": 37,
   "id": "8bca52ad-f652-4554-9fc8-5ab68781c991",
   "metadata": {},
   "outputs": [
    {
     "name": "stdout",
     "output_type": "stream",
     "text": [
      "The 10 most similar users to user 1 are: [4564, 25711, 20979, 17168, 17820, 13458, 25917, 4215, 26199, 22630]\n",
      "The 5 most similar users to user 3933 are: [16945, 31644, 23732, 33217, 30546]\n",
      "The 3 most similar users to user 46 are: [34277, 7971, 9988]\n"
     ]
    }
   ],
   "source": [
    "# Do a spot check of your function\n",
    "print(\"The 10 most similar users to user 1 are: {}\".format(find_similar_users(15)[:10]))\n",
    "print(\"The 5 most similar users to user 3933 are: {}\".format(find_similar_users(34254)[:5]))\n",
    "print(\"The 3 most similar users to user 46 are: {}\".format(find_similar_users(57)[:3]))"
   ]
  },
  {
   "cell_type": "code",
   "execution_count": 38,
   "id": "738f385e-af73-48bd-aae9-e59749d3b292",
   "metadata": {},
   "outputs": [
    {
     "name": "stderr",
     "output_type": "stream",
     "text": [
      "/var/folders/sn/7klq0gls5qz987z3jr52_jym0000gn/T/ipykernel_75545/1090345545.py:1: SettingWithCopyWarning: \n",
      "A value is trying to be set on a copy of a slice from a DataFrame.\n",
      "Try using .loc[row_indexer,col_indexer] = value instead\n",
      "\n",
      "See the caveats in the documentation: https://pandas.pydata.org/pandas-docs/stable/user_guide/indexing.html#returning-a-view-versus-a-copy\n",
      "  df['vid_id'] = df['vid_id'].astype(str)\n"
     ]
    }
   ],
   "source": [
    "df['vid_id'] = df['vid_id'].astype(str)"
   ]
  },
  {
   "cell_type": "code",
   "execution_count": 45,
   "id": "fe292881-af5c-4b09-916c-8afe49596913",
   "metadata": {},
   "outputs": [],
   "source": [
    "def get_item_names(user_id, df=df):\n",
    "    '''\n",
    "    INPUT:\n",
    "    user_id - (list) a list of item ids\n",
    "    df - (pandas dataframe) df as defined at the top of the notebook\n",
    "    \n",
    "    OUTPUT:\n",
    "    item_names - (list) a list of item names associated with the list of article ids \n",
    "                    (this is identified by the title column)\n",
    "    '''\n",
    "    \n",
    "    item_names = list(set(df[df['vid_id'].isin(user_id)]['original_name'].values))\n",
    "    \n",
    "    return item_names # Return the item names associated with list of items ids"
   ]
  },
  {
   "cell_type": "code",
   "execution_count": 51,
   "id": "cf564af4-aa96-4a50-8ac3-19c7a2eaa7a5",
   "metadata": {},
   "outputs": [],
   "source": [
    "def get_user_items(user_id, user_item=user_item):\n",
    "    '''\n",
    "    INPUT:\n",
    "    user_id - (int) a user id\n",
    "    user_item - (pandas dataframe) matrix of users by items: \n",
    "                1's when a user has interacted with an items, 0 otherwise\n",
    "    \n",
    "    OUTPUT:\n",
    "    items_ids - (list) a list of the items ids seen by the user\n",
    "    items_names - (list) a list of items names associated with the list of items ids \n",
    "                    (this is identified by the doc_full_name column in df_content)\n",
    "    \n",
    "    Description:\n",
    "    Provides a list of the items_ids and items titles that have been seen by a user\n",
    "    '''\n",
    "    user_idx = user_item.loc[user_id, :]\n",
    "    items_ids = user_idx[user_idx == 1].index.values.astype('str').tolist()\n",
    "    items_names = get_item_names(items_ids)\n",
    "    \n",
    "    return items_ids, items_names"
   ]
  },
  {
   "cell_type": "code",
   "execution_count": 52,
   "id": "98d2557d-2793-40fc-aeea-dbbe94b21a61",
   "metadata": {},
   "outputs": [],
   "source": [
    "def user_user_recs(user_id, m=10):\n",
    "    '''\n",
    "    INPUT:\n",
    "    user_id - (int) a user id\n",
    "    m - (int) the number of recommendations you want for the user\n",
    "    \n",
    "    OUTPUT:\n",
    "    recs - (list) a list of recommendations for the user\n",
    "    \n",
    "    Description:\n",
    "    Loops through the users based on closeness to the input user_id\n",
    "    For each user - finds articles the user hasn't seen before and provides them as recs\n",
    "    Does this until m recommendations are found\n",
    "    \n",
    "    Notes:\n",
    "    Users who are the same closeness are chosen arbitrarily as the 'next' user\n",
    "    \n",
    "    For the user where the number of recommended articles starts below m \n",
    "    and ends exceeding m, the last items are chosen arbitrarily\n",
    "    '''\n",
    "    \n",
    "    # retrieve similar user lists\n",
    "    \n",
    "    # loop through the users based on the closeness\n",
    "    ## remove watched movie by the user 1:\n",
    "    most_similar_users = find_similar_users(user_id)\n",
    "    \n",
    "    # Give user_item_ids which user read\n",
    "    user_item_ids = set(get_user_items(user_id)[0])\n",
    "    \n",
    "    # -- Storing recommendations for user\n",
    "    recs = []\n",
    "    for user in most_similar_users:\n",
    "        closer_user_item_ids = set(get_user_items(user)[0])\n",
    "        recs += list(set(closer_user_item_ids) - set(user_item_ids))\n",
    "        if len(recs) > m:\n",
    "            break\n",
    " \n",
    "    return recs[:m] # return your recommendations for this user_id    "
   ]
  },
  {
   "cell_type": "code",
   "execution_count": 53,
   "id": "e689518d-f747-4273-a963-94427035449f",
   "metadata": {},
   "outputs": [
    {
     "data": {
      "text/plain": [
       "['Baywatch',\n",
       " \"Surf's Up : WaveMania\",\n",
       " 'Spider-Man: Homecoming',\n",
       " 'Rings',\n",
       " 'Guardians Of The Tomb',\n",
       " 'The hape of Water',\n",
       " 'The Greatest howman',\n",
       " 'Moana',\n",
       " 'Inside']"
      ]
     },
     "execution_count": 53,
     "metadata": {},
     "output_type": "execute_result"
    }
   ],
   "source": [
    "# Check Results\n",
    "get_item_names(user_user_recs(34277, 10)) # Return 10 recommendations for user 1"
   ]
  },
  {
   "cell_type": "code",
   "execution_count": null,
   "id": "4ab37470-24f0-4f9d-9457-f1d0c14a8182",
   "metadata": {},
   "outputs": [],
   "source": []
  },
  {
   "cell_type": "code",
   "execution_count": 56,
   "id": "73161605-3b8d-4ccc-9ce8-f24034568f2c",
   "metadata": {},
   "outputs": [],
   "source": [
    "def get_top_sorted_users(user_id, df=df, user_item=user_item):\n",
    "    '''\n",
    "    INPUT:\n",
    "    user_id - (int)\n",
    "    df - (pandas dataframe) df as defined at the top of the notebook \n",
    "    user_item - (pandas dataframe) matrix of users by item: \n",
    "            1's when a user has interacted with an item, 0 otherwise\n",
    "    \n",
    "            \n",
    "    OUTPUT:\n",
    "    neighbors_df - (pandas dataframe) a dataframe with:\n",
    "                    neighbor_id - is a neighbor user_id\n",
    "                    similarity - measure of the similarity of each user to the provided user_id\n",
    "                    num_interactions - the number of articles viewed by the user - if a u\n",
    "                    \n",
    "    Other Details - sort the neighbors_df by the similarity and then by number of interactions where \n",
    "                    highest of each is higher in the dataframe\n",
    "     \n",
    "    '''\n",
    "    # Your code here\n",
    "    # compute similarity of user_id to grab all users\n",
    "    similarity = user_item.dot(user_item.loc[user_id]).sort_values(ascending=False)\n",
    "    # add it to new dataframe and delete user_id from the the dataframe\n",
    "    similarity = pd.DataFrame(similarity[1:]).reset_index()\n",
    "    # rename columns\n",
    "    similarity.columns = ['user_id','similarity']\n",
    "\n",
    "    # set another metric of number of interaction of each user in the df\n",
    "    num_interations = df.groupby('user_id').count()['vid_id']\n",
    "    num_interations = pd.DataFrame(num_interations[1:]).reset_index()\n",
    "    num_interations.columns = ['user_id', 'num_interations']\n",
    "    # join num_interations to similarity dataframe \n",
    "    neighbors_df = similarity.merge(num_interations, how='outer', on='user_id')\n",
    "    neighbors_df.columns = ['user_id', 'similarity', 'num_interations']\n",
    "    neighbors_df = neighbors_df.sort_values(by=['similarity', 'num_interations'], ascending=False)\n",
    "    \n",
    "    return neighbors_df # Return the dataframe specified in the doc_string\n",
    "\n",
    "\n",
    "def user_user_recs_part2(user_id, m=10):\n",
    "    '''\n",
    "    INPUT:\n",
    "    user_id - (int) a user id\n",
    "    m - (int) the number of recommendations you want for the user\n",
    "    \n",
    "    OUTPUT:\n",
    "    recs - (list) a list of recommendations for the user by item id\n",
    "    rec_names - (list) a list of recommendations for the user by item title\n",
    "    \n",
    "    Description:\n",
    "    Loops through the users based on closeness to the input user_id\n",
    "    For each user - finds articles the user hasn't seen before and provides them as recs\n",
    "    Does this until m recommendations are found\n",
    "    \n",
    "    Notes:\n",
    "    * Choose the users that have the most total item interactions \n",
    "    before choosing those with fewer item interactions.\n",
    "\n",
    "    * Choose articles with the items with the most total interactions \n",
    "    before choosing those with fewer total interactions. \n",
    "    \n",
    "    \n",
    "    '''\n",
    "    # Your code here\n",
    "    \n",
    "    # target user article ids\n",
    "    the_user_items = list(set(get_user_items(user_id)[0]))\n",
    "\n",
    "\n",
    "    recs = []\n",
    "    # get all neighbors users df\n",
    "    neighbors_df = get_top_sorted_users(user_id)\n",
    "    # loop through each user and get their article ids and store it in recs (only store unique to our target)\n",
    "    for user in neighbors_df['user_id']:\n",
    "        user_items_ids = get_user_items(user)[0]# get items ids for check\n",
    "        for art in user_items_ids:\n",
    "            if art not in the_user_items:\n",
    "                recs.append(art)\n",
    "                if len(recs) >= m:\n",
    "                    break\n",
    "        if len(recs) >= m:\n",
    "            break            \n",
    "\n",
    "    # if we have less than m, we will fill in articles from top articles\n",
    "    if len(recs) < m:\n",
    "        for id in get_top_item_ids(m):\n",
    "            if id not in the_user_items:\n",
    "                recs.append(id)\n",
    "                if len(recs) >= m:\n",
    "                    break\n",
    "    rec_names = get_item_names(recs)\n",
    "    \n",
    "    return recs, rec_names"
   ]
  },
  {
   "cell_type": "code",
   "execution_count": 57,
   "id": "7043ca22-bad4-41a9-9fcd-4ee1e89bec8c",
   "metadata": {},
   "outputs": [
    {
     "name": "stdout",
     "output_type": "stream",
     "text": [
      "The top 10 recommendations for user 20 are the following article ids:\n",
      "['2', '35', '54', '96', '166', '175', '178', '246', '276', '336']\n",
      "\n",
      "The top 10 recommendations for user 20 are the following article names:\n",
      "['Avengers Confidential: Black Widow', 'About Last Night', 'Bad Boys ', 'Allied', 'Badges of Fury', 'Broken Vows', '100 treets', 'Blitz', 'A Fighting Man', 'Collateral Beauty']\n"
     ]
    }
   ],
   "source": [
    "# Quick spot check - don't change this code - just use it to test your functions\n",
    "rec_ids, rec_names = user_user_recs_part2(12602, 10)\n",
    "print(\"The top 10 recommendations for user 12602 are the following item ids:\")\n",
    "print(rec_ids)\n",
    "print()\n",
    "print(\"The top 10 recommendations for user 12602 are the following item names:\")\n",
    "print(rec_names)"
   ]
  },
  {
   "cell_type": "markdown",
   "id": "2eb57525-be21-45d6-99c8-eabac808615b",
   "metadata": {
    "tags": []
   },
   "source": [
    "# <a class=\"anchor\" id=\"Matrix-Fact\">Part III: Matrix Factorization</a>\n",
    "\n",
    "In this part of the notebook, I will use matrix factorization to make item recommendations to the users on the STC IPTV Data."
   ]
  },
  {
   "cell_type": "code",
   "execution_count": 61,
   "id": "04ccc7b8-b9bc-4259-a91c-b44460ae1501",
   "metadata": {},
   "outputs": [],
   "source": [
    "from sklearn.model_selection import train_test_split"
   ]
  },
  {
   "cell_type": "code",
   "execution_count": 62,
   "id": "901f780b-df2a-43fe-926b-292932dabc21",
   "metadata": {},
   "outputs": [
    {
     "name": "stdout",
     "output_type": "stream",
     "text": [
      "No. of training examples: 70000\n",
      "No. of testing examples: 30000\n"
     ]
    }
   ],
   "source": [
    "df_train = df.sample(frac=0.7, random_state=25)\n",
    "df_test = df.drop(df_train.index)\n",
    "\n",
    "print(f\"No. of training examples: {df_train.shape[0]}\")\n",
    "print(f\"No. of testing examples: {df_test.shape[0]}\")"
   ]
  },
  {
   "cell_type": "code",
   "execution_count": 63,
   "id": "580b577b-f247-4145-a671-d5e240d89dfa",
   "metadata": {},
   "outputs": [],
   "source": [
    "\n",
    "def create_test_and_train_user_item(df_train, df_test):\n",
    "    '''\n",
    "    INPUT:\n",
    "    df_train - training dataframe\n",
    "    df_test - test dataframe\n",
    "    \n",
    "    OUTPUT:\n",
    "    user_item_train - a user-item matrix of the training dataframe \n",
    "                      (unique users for each row and unique articles for each column)\n",
    "    user_item_test - a user-item matrix of the testing dataframe \n",
    "                    (unique users for each row and unique articles for each column)\n",
    "    test_idx - all of the test user ids\n",
    "    test_arts - all of the test article ids\n",
    "    \n",
    "    '''\n",
    "\n",
    "    user_item_train = create_user_item_matrix(df_train)\n",
    "    user_item_test = create_user_item_matrix(df_test)\n",
    "    \n",
    "    test_idx = user_item_test.index.values\n",
    "    test_arts = user_item_test.columns.values\n",
    "    \n",
    "    \n",
    "    return user_item_train, user_item_test, test_idx, test_arts\n",
    "\n",
    "user_item_train, user_item_test, test_idx, test_arts = create_test_and_train_user_item(df_train, df_test)"
   ]
  },
  {
   "cell_type": "code",
   "execution_count": 64,
   "id": "1b29075e-c1f9-4cd5-9cff-f4997bdbc956",
   "metadata": {},
   "outputs": [
    {
     "data": {
      "text/html": [
       "<div>\n",
       "<style scoped>\n",
       "    .dataframe tbody tr th:only-of-type {\n",
       "        vertical-align: middle;\n",
       "    }\n",
       "\n",
       "    .dataframe tbody tr th {\n",
       "        vertical-align: top;\n",
       "    }\n",
       "\n",
       "    .dataframe thead th {\n",
       "        text-align: right;\n",
       "    }\n",
       "</style>\n",
       "<table border=\"1\" class=\"dataframe\">\n",
       "  <thead>\n",
       "    <tr style=\"text-align: right;\">\n",
       "      <th>vid_id</th>\n",
       "      <th>0</th>\n",
       "      <th>1</th>\n",
       "      <th>10</th>\n",
       "      <th>100</th>\n",
       "      <th>1000</th>\n",
       "      <th>1001</th>\n",
       "      <th>1002</th>\n",
       "      <th>1003</th>\n",
       "      <th>1005</th>\n",
       "      <th>1006</th>\n",
       "      <th>...</th>\n",
       "      <th>988</th>\n",
       "      <th>99</th>\n",
       "      <th>991</th>\n",
       "      <th>992</th>\n",
       "      <th>993</th>\n",
       "      <th>995</th>\n",
       "      <th>996</th>\n",
       "      <th>997</th>\n",
       "      <th>998</th>\n",
       "      <th>999</th>\n",
       "    </tr>\n",
       "    <tr>\n",
       "      <th>user_id</th>\n",
       "      <th></th>\n",
       "      <th></th>\n",
       "      <th></th>\n",
       "      <th></th>\n",
       "      <th></th>\n",
       "      <th></th>\n",
       "      <th></th>\n",
       "      <th></th>\n",
       "      <th></th>\n",
       "      <th></th>\n",
       "      <th></th>\n",
       "      <th></th>\n",
       "      <th></th>\n",
       "      <th></th>\n",
       "      <th></th>\n",
       "      <th></th>\n",
       "      <th></th>\n",
       "      <th></th>\n",
       "      <th></th>\n",
       "      <th></th>\n",
       "      <th></th>\n",
       "    </tr>\n",
       "  </thead>\n",
       "  <tbody>\n",
       "    <tr>\n",
       "      <th>15</th>\n",
       "      <td>0</td>\n",
       "      <td>1</td>\n",
       "      <td>0</td>\n",
       "      <td>0</td>\n",
       "      <td>0</td>\n",
       "      <td>0</td>\n",
       "      <td>0</td>\n",
       "      <td>0</td>\n",
       "      <td>0</td>\n",
       "      <td>0</td>\n",
       "      <td>...</td>\n",
       "      <td>0</td>\n",
       "      <td>0</td>\n",
       "      <td>0</td>\n",
       "      <td>0</td>\n",
       "      <td>0</td>\n",
       "      <td>0</td>\n",
       "      <td>0</td>\n",
       "      <td>0</td>\n",
       "      <td>0</td>\n",
       "      <td>0</td>\n",
       "    </tr>\n",
       "    <tr>\n",
       "      <th>17</th>\n",
       "      <td>0</td>\n",
       "      <td>0</td>\n",
       "      <td>0</td>\n",
       "      <td>0</td>\n",
       "      <td>0</td>\n",
       "      <td>0</td>\n",
       "      <td>0</td>\n",
       "      <td>0</td>\n",
       "      <td>0</td>\n",
       "      <td>0</td>\n",
       "      <td>...</td>\n",
       "      <td>0</td>\n",
       "      <td>0</td>\n",
       "      <td>0</td>\n",
       "      <td>0</td>\n",
       "      <td>0</td>\n",
       "      <td>0</td>\n",
       "      <td>0</td>\n",
       "      <td>0</td>\n",
       "      <td>0</td>\n",
       "      <td>0</td>\n",
       "    </tr>\n",
       "    <tr>\n",
       "      <th>36</th>\n",
       "      <td>0</td>\n",
       "      <td>0</td>\n",
       "      <td>0</td>\n",
       "      <td>0</td>\n",
       "      <td>0</td>\n",
       "      <td>0</td>\n",
       "      <td>0</td>\n",
       "      <td>0</td>\n",
       "      <td>0</td>\n",
       "      <td>0</td>\n",
       "      <td>...</td>\n",
       "      <td>0</td>\n",
       "      <td>0</td>\n",
       "      <td>0</td>\n",
       "      <td>0</td>\n",
       "      <td>0</td>\n",
       "      <td>0</td>\n",
       "      <td>0</td>\n",
       "      <td>0</td>\n",
       "      <td>0</td>\n",
       "      <td>0</td>\n",
       "    </tr>\n",
       "    <tr>\n",
       "      <th>38</th>\n",
       "      <td>0</td>\n",
       "      <td>0</td>\n",
       "      <td>0</td>\n",
       "      <td>0</td>\n",
       "      <td>0</td>\n",
       "      <td>0</td>\n",
       "      <td>0</td>\n",
       "      <td>0</td>\n",
       "      <td>0</td>\n",
       "      <td>0</td>\n",
       "      <td>...</td>\n",
       "      <td>0</td>\n",
       "      <td>0</td>\n",
       "      <td>0</td>\n",
       "      <td>0</td>\n",
       "      <td>0</td>\n",
       "      <td>0</td>\n",
       "      <td>0</td>\n",
       "      <td>0</td>\n",
       "      <td>0</td>\n",
       "      <td>0</td>\n",
       "    </tr>\n",
       "    <tr>\n",
       "      <th>40</th>\n",
       "      <td>0</td>\n",
       "      <td>0</td>\n",
       "      <td>0</td>\n",
       "      <td>0</td>\n",
       "      <td>0</td>\n",
       "      <td>0</td>\n",
       "      <td>0</td>\n",
       "      <td>0</td>\n",
       "      <td>0</td>\n",
       "      <td>0</td>\n",
       "      <td>...</td>\n",
       "      <td>0</td>\n",
       "      <td>0</td>\n",
       "      <td>0</td>\n",
       "      <td>0</td>\n",
       "      <td>0</td>\n",
       "      <td>0</td>\n",
       "      <td>0</td>\n",
       "      <td>0</td>\n",
       "      <td>0</td>\n",
       "      <td>0</td>\n",
       "    </tr>\n",
       "  </tbody>\n",
       "</table>\n",
       "<p>5 rows × 1615 columns</p>\n",
       "</div>"
      ],
      "text/plain": [
       "vid_id   0  1  10  100  1000  1001  1002  1003  1005  1006  ...  988  99  991  \\\n",
       "user_id                                                     ...                 \n",
       "15       0  1   0    0     0     0     0     0     0     0  ...    0   0    0   \n",
       "17       0  0   0    0     0     0     0     0     0     0  ...    0   0    0   \n",
       "36       0  0   0    0     0     0     0     0     0     0  ...    0   0    0   \n",
       "38       0  0   0    0     0     0     0     0     0     0  ...    0   0    0   \n",
       "40       0  0   0    0     0     0     0     0     0     0  ...    0   0    0   \n",
       "\n",
       "vid_id   992  993  995  996  997  998  999  \n",
       "user_id                                     \n",
       "15         0    0    0    0    0    0    0  \n",
       "17         0    0    0    0    0    0    0  \n",
       "36         0    0    0    0    0    0    0  \n",
       "38         0    0    0    0    0    0    0  \n",
       "40         0    0    0    0    0    0    0  \n",
       "\n",
       "[5 rows x 1615 columns]"
      ]
     },
     "execution_count": 64,
     "metadata": {},
     "output_type": "execute_result"
    }
   ],
   "source": [
    "user_item_train.head()"
   ]
  },
  {
   "cell_type": "code",
   "execution_count": 65,
   "id": "b6b5d460-c26c-41d1-a306-df7e44c6c214",
   "metadata": {},
   "outputs": [],
   "source": [
    "u_train, s_train, vt_train = np.linalg.svd(user_item_train) # fit svd similar to above then use the cells below"
   ]
  },
  {
   "cell_type": "code",
   "execution_count": 66,
   "id": "7e5661b2-6075-46c6-a39e-9540c9e6b007",
   "metadata": {},
   "outputs": [],
   "source": [
    "# decomposition to predict on test data\n",
    "\n",
    "row_index = user_item_train.index.isin(test_idx)\n",
    "col_index = user_item_train.columns.isin(test_arts)\n",
    "u_test = u_train[row_index, :]\n",
    "vt_test = vt_train[:, col_index]\n",
    "test_users = set(user_item_train.index) & set(user_item_test.index)\n",
    "test_articles = set(user_item_train.columns) & set(user_item_test.columns)\n",
    "user_item_test_could_pred = user_item_test.loc[test_users, test_articles]"
   ]
  },
  {
   "cell_type": "code",
   "execution_count": 67,
   "id": "5c6af436-8371-4dc7-9ad1-4940f4d8c6a9",
   "metadata": {},
   "outputs": [],
   "source": [
    "num_latent_feats = np.arange(10,700+10,20)\n",
    "sum_errs_train = []\n",
    "sum_errs_test = []\n",
    "\n",
    "for k in num_latent_feats:\n",
    "    # restructure with k latent features\n",
    "    s_train_new, u_train_new, vt_train_new = np.diag(s_train[:k]), u_train[:, :k], vt_train[:k, :]\n",
    "    u_test_new, vt_test_new = u_test[:, :k], vt_test[:k, :]\n",
    "    \n",
    "    # take dot product\n",
    "    user_item_train_est = np.around(np.dot(np.dot(u_train_new, s_train_new), vt_train_new))\n",
    "    user_item_test_est = np.around(np.dot(np.dot(u_test_new, s_train_new), vt_test_new))\n",
    "    \n",
    "    # compute error for each prediction to actual value\n",
    "    diffs_train = np.subtract(user_item_train, user_item_train_est)\n",
    "    diffs_test = np.subtract(user_item_test_could_pred, user_item_test_est)\n",
    "    \n",
    "    # total errors and keep track of them\n",
    "    sum_errs_train.append(np.sum(np.sum(np.abs(diffs_train))))\n",
    "    sum_errs_test.append(np.sum(np.sum(np.abs(diffs_test))))"
   ]
  },
  {
   "cell_type": "code",
   "execution_count": 68,
   "id": "8493fa62-c116-4201-904f-f4b03caaca27",
   "metadata": {},
   "outputs": [
    {
     "data": {
      "image/png": "[encoded data removed]",
      "text/plain": [
       "<Figure size 432x288 with 2 Axes>"
      ]
     },
     "metadata": {},
     "output_type": "display_data"
    }
   ],
   "source": [
    "fig, ax1 = plt.subplots()\n",
    "ax2 = ax1.twinx()\n",
    "\n",
    "ax1.plot(num_latent_feats, 1 - np.array(sum_errs_train)/df.shape[0], label=\"Train accuracy\")\n",
    "ax2.plot(num_latent_feats, 1 - np.array(sum_errs_test)/df.shape[0], color='red', label=\"Test accuracy\")\n",
    "\n",
    "ax1.set_title('Accuracy vs. Number of Latent Features')\n",
    "\n",
    "ax1.set_xlabel('Number of Latent Features')\n",
    "ax1.set_ylabel('Train accuracy')\n",
    "ax2.set_ylabel('Test accuracy', rotation=270, labelpad=12)\n",
    "\n",
    "plt.show()"
   ]
  },
  {
   "cell_type": "markdown",
   "id": "f1a8c898-51f6-4c1a-81b9-26343b9861d5",
   "metadata": {},
   "source": [
    "### Analysis\n",
    "We notice that the higher the latent feature for test we are approaching to lower accuracy and with higher dataset size like train dataset, \n",
    "we get higher accuracy when increasing latent features\n",
    "\n",
    "### Discussion and future improvement for STC Jawwy\n",
    "* We could say that accuracy is a great way to measure the given the number of latent features but we could also look for other similarities methods such as (Pearson’s correlation coefficient, Spearman’s correlation coefficient, Kendall’s Tau, Euclidean Distance , Manhattan Distance)\n",
    "* It is not sufficient that we have our data split into random as we can pick more users from train that are exist in test, and we can develop a better framework to check for that. also the number of users in test fairly large to work in smaller environments however, the obvious is that all recommendation systems will scale and should have more users.\n",
    "* Can we use an online evaluation technique like A/B testing here? Yes, to better improve our dataset, we need more data points for segmentation in order for A/B testing to be effective so that we understand how we can recommend using geo, demo, and personalization recommendations based on users characteristics, and it is always better to use methods such as similarities and num_interaction along other variables to better recommend users\n",
    "* From the given data, I only used a subset of 100k data to reduce the computation but we can use the 3M for better server.\n",
    "* The data needs more variables to optimize recommendation systems with more accuracy to users. a few of examples would be adding (rating from users, adding program year, item id, description to enhance content-based recommender"
   ]
  },
  {
   "cell_type": "code",
   "execution_count": null,
   "id": "62db46d5-fe1a-4c43-beb9-95e6dc63a940",
   "metadata": {},
   "outputs": [],
   "source": []
  }
 ],
 "metadata": {
  "kernelspec": {
   "display_name": "Python 3 (ipykernel)",
   "language": "python",
   "name": "python3"
  },
  "language_info": {
   "codemirror_mode": {
    "name": "ipython",
    "version": 3
   },
   "file_extension": ".py",
   "mimetype": "text/x-python",
   "name": "python",
   "nbconvert_exporter": "python",
   "pygments_lexer": "ipython3",
   "version": "3.8.12"
  }
 },
 "nbformat": 4,
 "nbformat_minor": 5
}
